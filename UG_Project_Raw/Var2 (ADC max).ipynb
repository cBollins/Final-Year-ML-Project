{
 "cells": [
  {
   "cell_type": "code",
   "execution_count": 1,
   "id": "931d4de4-a3e1-40df-b09c-739f20ba619f",
   "metadata": {},
   "outputs": [
    {
     "name": "stdout",
     "output_type": "stream",
     "text": [
      "Requirement already satisfied: uproot in /opt/conda/lib/python3.11/site-packages (5.5.1)\n",
      "Requirement already satisfied: awkward in /opt/conda/lib/python3.11/site-packages (2.7.1)\n",
      "Requirement already satisfied: cramjam>=2.5.0 in /opt/conda/lib/python3.11/site-packages (from uproot) (2.9.0)\n",
      "Requirement already satisfied: fsspec in /opt/conda/lib/python3.11/site-packages (from uproot) (2024.10.0)\n",
      "Requirement already satisfied: numpy in /opt/conda/lib/python3.11/site-packages (from uproot) (1.26.4)\n",
      "Requirement already satisfied: packaging in /opt/conda/lib/python3.11/site-packages (from uproot) (24.0)\n",
      "Requirement already satisfied: xxhash in /opt/conda/lib/python3.11/site-packages (from uproot) (3.5.0)\n",
      "Requirement already satisfied: awkward-cpp==42 in /opt/conda/lib/python3.11/site-packages (from awkward) (42)\n",
      "Requirement already satisfied: importlib-metadata>=4.13.0 in /opt/conda/lib/python3.11/site-packages (from awkward) (7.1.0)\n",
      "Requirement already satisfied: zipp>=0.5 in /opt/conda/lib/python3.11/site-packages (from importlib-metadata>=4.13.0->awkward) (3.17.0)\n"
     ]
    }
   ],
   "source": [
    "!pip install uproot awkward \n",
    "from uproot_io import Events, View\n",
    "import numpy as np\n",
    "import matplotlib.pyplot as plt\n",
    "import features as u\n",
    "\n",
    "cheated_0 = Events('CheatedRecoFile_0.root')\n",
    "\n",
    "# we have 499617 events in cheated_0"
   ]
  },
  {
   "cell_type": "code",
   "execution_count": null,
   "id": "a2aaa1d0-074f-47af-9f1d-7cfa3578450a",
   "metadata": {},
   "outputs": [],
   "source": [
    "def var_adc_max(events, start_idx, end_idx, hits_cutoff, show_plot=False):\n",
    "\n",
    "    if hits_cutoff < 2:\n",
    "        hits_cutoff = 2\n",
    "        print('cannot accept events with less than 2 hits')\n",
    "    # define an array for the max values that we will plot with eventually\n",
    "    max_array_shower = []\n",
    "    max_array_track = []\n",
    "\n",
    "    # add a counter for the fails and successes, just so the debugging data isnt as invasive\n",
    "    f = 0\n",
    "    n = 0\n",
    "    \n",
    "    for event_idx in range(start_idx, end_idx + 1):\n",
    "\n",
    "        # find w positions so we can relate the adc values\n",
    "        w_hits = events.reco_hits_w[event_idx]\n",
    "\n",
    "        if len(w_hits) > hits_cutoff:\n",
    "            \n",
    "            adc_values = events.reco_adcs_w[event_idx]\n",
    "        \n",
    "            # filtering track or shower from pdg code\n",
    "            pdg = events.mc_pdg[event_idx]\n",
    "            shower = False # initialising the track or shower variable\n",
    "\n",
    "            if pdg in [-11, 11, 22]:\n",
    "                shower = True\n",
    "\n",
    "            # finding the w value associated with the maximum adc value\n",
    "            w_idx = np.argmax(adc_values)\n",
    "\n",
    "            # we are omitting an edge case here that there is a chance there are two identical max values, this will rarely happen though\n",
    "\n",
    "            # want to scale the w_adc_max value\n",
    "            w_adc_max = w_hits[w_idx]\n",
    "            # in the samw way we scale the w hits, translate to origin then squash to [0,1]:\n",
    "\n",
    "            w_adc_max = (w_adc_max - min(w_hits))/(max(w_hits) - min(w_hits))\n",
    "            n += 1\n",
    "\n",
    "            if shower:\n",
    "                max_array_shower.append(w_adc_max)\n",
    "            else: max_array_track.append(w_adc_max)\n",
    "\n",
    "        else: f += 1\n",
    "\n",
    "    print(f'There were {f} failed indices')\n",
    "    \n",
    "    edges = np.linspace(0,1,21)\n",
    "    plt.figure(figsize=(10,6))\n",
    "    plt.hist(max_array_track, density=True, color='c', edgecolor='k', bins=edges, linewidth=0.5, alpha=0.7, label='True Track')\n",
    "    plt.hist(max_array_shower, density=True, color='m', edgecolor='k', bins=edges, linewidth=0.5, alpha=0.7, label='True Shower')\n",
    "    plt.title(f'ADC Peak histogram for {n} events, cutoff = {hits_cutoff}')\n",
    "    plt.xlabel('W position in event')\n",
    "    plt.ylabel('ADC Max density')\n",
    "    plt.legend()\n",
    "    plt.grid(False)\n",
    "    plt.show()"
   ]
  }
 ],
 "metadata": {
  "kernelspec": {
   "display_name": "Python 3 (ipykernel)",
   "language": "python",
   "name": "python3"
  },
  "language_info": {
   "codemirror_mode": {
    "name": "ipython",
    "version": 3
   },
   "file_extension": ".py",
   "mimetype": "text/x-python",
   "name": "python",
   "nbconvert_exporter": "python",
   "pygments_lexer": "ipython3",
   "version": "3.11.9"
  }
 },
 "nbformat": 4,
 "nbformat_minor": 5
}
