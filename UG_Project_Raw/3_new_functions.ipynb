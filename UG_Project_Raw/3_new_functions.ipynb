{
 "cells": [
  {
   "cell_type": "code",
   "execution_count": 1,
   "id": "d68ecbf5-5b81-4cca-bf37-412f87ed459d",
   "metadata": {},
   "outputs": [
    {
     "name": "stdout",
     "output_type": "stream",
     "text": [
      "Collecting uproot\n",
      "  Using cached uproot-5.5.1-py3-none-any.whl.metadata (33 kB)\n",
      "Collecting awkward\n",
      "  Using cached awkward-2.7.1-py3-none-any.whl.metadata (7.0 kB)\n",
      "Collecting cramjam>=2.5.0 (from uproot)\n",
      "  Using cached cramjam-2.9.0-cp311-cp311-manylinux_2_17_x86_64.manylinux2014_x86_64.whl.metadata (4.9 kB)\n",
      "Requirement already satisfied: fsspec in /opt/conda/lib/python3.11/site-packages (from uproot) (2024.10.0)\n",
      "Requirement already satisfied: numpy in /opt/conda/lib/python3.11/site-packages (from uproot) (1.26.4)\n",
      "Requirement already satisfied: packaging in /opt/conda/lib/python3.11/site-packages (from uproot) (24.0)\n",
      "Requirement already satisfied: xxhash in /opt/conda/lib/python3.11/site-packages (from uproot) (3.5.0)\n",
      "Collecting awkward-cpp==42 (from awkward)\n",
      "  Using cached awkward_cpp-42-cp311-cp311-manylinux_2_17_x86_64.manylinux2014_x86_64.whl.metadata (2.1 kB)\n",
      "Requirement already satisfied: importlib-metadata>=4.13.0 in /opt/conda/lib/python3.11/site-packages (from awkward) (7.1.0)\n",
      "Requirement already satisfied: zipp>=0.5 in /opt/conda/lib/python3.11/site-packages (from importlib-metadata>=4.13.0->awkward) (3.17.0)\n",
      "Using cached uproot-5.5.1-py3-none-any.whl (362 kB)\n",
      "Using cached awkward-2.7.1-py3-none-any.whl (863 kB)\n",
      "Using cached awkward_cpp-42-cp311-cp311-manylinux_2_17_x86_64.manylinux2014_x86_64.whl (637 kB)\n",
      "Using cached cramjam-2.9.0-cp311-cp311-manylinux_2_17_x86_64.manylinux2014_x86_64.whl (2.4 MB)\n",
      "Installing collected packages: cramjam, awkward-cpp, awkward, uproot\n",
      "Successfully installed awkward-2.7.1 awkward-cpp-42 cramjam-2.9.0 uproot-5.5.1\n"
     ]
    }
   ],
   "source": [
    "!pip install uproot awkward \n",
    "from uproot_io import Events, View\n",
    "import numpy as np\n",
    "import matplotlib.pyplot as plt\n",
    "import features as f\n",
    "\n",
    "cheated_0 = Events('CheatedRecoFile_0.root')"
   ]
  },
  {
   "cell_type": "code",
   "execution_count": 2,
   "id": "14a7b22f-a05a-48aa-a4e4-4dd8d8ce1d99",
   "metadata": {},
   "outputs": [],
   "source": [
    "from statsmodels.nonparametric.smoothers_lowess import lowess\n",
    "\n",
    "def LOWESS_standard_deviation(events, event_idx):\n",
    "    w_hits = events.reco_hits_w[event_idx]\n",
    "    adc_values = events.reco_adcs_w[event_idx]\n",
    "    if len(w_hits) <= 5:\n",
    "        return print('Less than 5 hits in event, not sufficient to plot.')\n",
    "    \n",
    "    frac = 0.2  # Fraction of data to use for smoothing\n",
    "    smoothed = lowess(adc_values, w_hits, frac=frac)\n",
    "    adc_lowess = smoothed[:, 1]\n",
    "\n",
    "    # Step 1: Calculate the mean\n",
    "    adc_mean = np.mean(adc_lowess)\n",
    "    \n",
    "    # Step 2: Compute squared differences\n",
    "    squared_differences = (adc_lowess - adc_mean) ** 2\n",
    "    \n",
    "    # Step 3: Calculate standard deviation\n",
    "    std_dev = np.sqrt(np.mean(squared_differences))  # Population\n",
    "\n",
    "    return std_dev"
   ]
  },
  {
   "cell_type": "code",
   "execution_count": 3,
   "id": "dbc2eb75-ec95-4bc2-81e2-415256ca75e6",
   "metadata": {},
   "outputs": [
    {
     "name": "stdout",
     "output_type": "stream",
     "text": [
      "2.1182415979666174\n"
     ]
    }
   ],
   "source": [
    "sd = LOWESS_standard_deviation(cheated_0, 1554)\n",
    "\n",
    "print(sd)"
   ]
  },
  {
   "cell_type": "code",
   "execution_count": 5,
   "id": "8bb721fa-ef0f-4c5d-b647-e1ae0a593e9a",
   "metadata": {},
   "outputs": [],
   "source": [
    "def q4_ratio(events, event_idx):\n",
    "    adcs = events.reco_adcs_w[event_idx]\n",
    "\n",
    "    q4_idx = len(adcs) // 4\n",
    "\n",
    "    adcs_q4 = adcs[-q4_idx:]\n",
    "\n",
    "    ratio = sum(adcs_q4) / sum(adcs)\n",
    "\n",
    "    return ratio"
   ]
  },
  {
   "cell_type": "code",
   "execution_count": 6,
   "id": "c577f9b0-42a1-4280-b7d0-6990d6ab3859",
   "metadata": {},
   "outputs": [
    {
     "name": "stdout",
     "output_type": "stream",
     "text": [
      "0.2490491619608897\n"
     ]
    }
   ],
   "source": [
    "q4r = adc_q4_ratio(cheated_0, 1554)\n",
    "\n",
    "print(q4r)"
   ]
  },
  {
   "cell_type": "code",
   "execution_count": 11,
   "id": "722c966d-9847-4619-8fbb-1c4a968fd30a",
   "metadata": {},
   "outputs": [],
   "source": [
    "def line(events, event_idx):\n",
    "    w_hits = np.array(events.reco_hits_w[event_idx])\n",
    "    x_hits = np.array(events.reco_hits_x_w[event_idx])\n",
    "    \n",
    "    # Calculate differences between consecutive points\n",
    "    dx = np.diff(w_hits)\n",
    "    dy = np.diff(x_hits)\n",
    "    \n",
    "    # Compute segment lengths\n",
    "    segment_lengths = np.sqrt(dx**2 + dy**2)\n",
    "    \n",
    "    # Total arc length (line integral)\n",
    "    total_length = np.sum(segment_lengths)\n",
    "    \n",
    "    # Normalize by the number of points\n",
    "    normalised_length = total_length / len(w_hits)\n",
    "\n",
    "    return normalised_length"
   ]
  },
  {
   "cell_type": "code",
   "execution_count": 12,
   "id": "001e5edc-f7c4-4ebb-8930-20e5d2d55781",
   "metadata": {},
   "outputs": [
    {
     "name": "stdout",
     "output_type": "stream",
     "text": [
      "0.6159520827900441\n"
     ]
    }
   ],
   "source": [
    "arc_l = line(cheated_0, 1554)\n",
    "\n",
    "print(arc_l)"
   ]
  },
  {
   "cell_type": "code",
   "execution_count": null,
   "id": "49370e2e-1237-4abd-b652-8e9193de6ae7",
   "metadata": {},
   "outputs": [],
   "source": []
  }
 ],
 "metadata": {
  "kernelspec": {
   "display_name": "Python 3 (ipykernel)",
   "language": "python",
   "name": "python3"
  },
  "language_info": {
   "codemirror_mode": {
    "name": "ipython",
    "version": 3
   },
   "file_extension": ".py",
   "mimetype": "text/x-python",
   "name": "python",
   "nbconvert_exporter": "python",
   "pygments_lexer": "ipython3",
   "version": "3.11.9"
  }
 },
 "nbformat": 4,
 "nbformat_minor": 5
}
