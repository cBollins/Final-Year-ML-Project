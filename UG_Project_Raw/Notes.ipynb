{
 "cells": [
  {
   "cell_type": "code",
   "execution_count": null,
   "id": "5029e5fb-32a9-45d1-9c3c-5c7aacc8a15f",
   "metadata": {},
   "outputs": [],
   "source": [
    "''' The module packages needed '''\n",
    "!pip install uproot awkward\n",
    "from uproot_io import Events, View\n",
    "import numpy as np"
   ]
  },
  {
   "cell_type": "code",
   "execution_count": null,
   "id": "9d2830e2-5e6e-415a-9603-5b74ea79130c",
   "metadata": {},
   "outputs": [],
   "source": [
    "''' Put random notes / details here '''"
   ]
  },
  {
   "cell_type": "code",
   "execution_count": 1,
   "id": "8d81e697-1cd0-496c-94e1-2ba789712f17",
   "metadata": {},
   "outputs": [],
   "source": [
    "# is it still not important to be able to open the cheated file? No I don't think so\n",
    "\n",
    "# also if you look at some of he event displays the particles get more energetic as they travel from the vertex, surely thats wrong? \n",
    "# is there an error there? you can see it best on event 6 and 7 - ok will look - I think it is fine look here - https://www.researchgate.net/figure/Event-display-of-an-electron-neutrino-interaction-candidate-in-ArgoNeuT-data-raw_fig1_350005166\n",
    "\n",
    "# okay thats fine, thanks for finding that\n",
    "\n",
    "# just a suggestion for the log book, date the logs you make. i can give you the logs i made yesterday\n",
    "\n",
    "#sounds good will do"
   ]
  },
  {
   "cell_type": "code",
   "execution_count": null,
   "id": "1b0eab75-5c86-461c-8e0f-bdc050c11573",
   "metadata": {},
   "outputs": [],
   "source": [
    "# made a copy so i can have a crack at it without ruining your progress\n",
    "# had a little look, in the prewritten code theres a 'filter_by_pdg' function which we may want to look at. im tired so may not look at anything else for now"
   ]
  }
 ],
 "metadata": {
  "kernelspec": {
   "display_name": "Python 3 (ipykernel)",
   "language": "python",
   "name": "python3"
  },
  "language_info": {
   "codemirror_mode": {
    "name": "ipython",
    "version": 3
   },
   "file_extension": ".py",
   "mimetype": "text/x-python",
   "name": "python",
   "nbconvert_exporter": "python",
   "pygments_lexer": "ipython3",
   "version": "3.11.9"
  }
 },
 "nbformat": 4,
 "nbformat_minor": 5
}
